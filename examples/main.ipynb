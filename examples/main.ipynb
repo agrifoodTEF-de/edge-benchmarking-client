{
 "cells": [
  {
   "cell_type": "markdown",
   "id": "05215030-41ab-48ae-96b5-ae2fd943c744",
   "metadata": {},
   "source": [
    "### 1. Client erstellen"
   ]
  },
  {
   "cell_type": "code",
   "execution_count": 1,
   "id": "a18aef77-7160-407b-9996-1c9beb0837dd",
   "metadata": {},
   "outputs": [],
   "source": [
    "import os\n",
    "from dotenv import load_dotenv\n",
    "from edge_benchmarking_client.client import EdgeBenchmarkingClient"
   ]
  },
  {
   "cell_type": "code",
   "execution_count": 2,
   "id": "90334682-8a0b-4f06-a874-2d04df4b43fe",
   "metadata": {},
   "outputs": [
    {
     "name": "stderr",
     "output_type": "stream",
     "text": [
      "2024-07-04 19:30:00.862 INFO client - __init__: Created Edge Benchmarking client for user 'admin' and Edge Farm at 'https://api.edge-farm.agrifood-tef.edvsz.hs-osnabrueck.de'.\n",
      "2024-07-04 19:30:00.909 INFO client - _test_connection: Edge Farm API is reachable with status code 200.\n"
     ]
    }
   ],
   "source": [
    "load_dotenv()\n",
    "\n",
    "# Connection information\n",
    "PROTOCOL = \"https\"\n",
    "HOST = \"api.edge-farm.agrifood-tef.edvsz.hs-osnabrueck.de\"\n",
    "\n",
    "# Basic API authentication\n",
    "BASIC_AUTH_USERNAME = os.getenv(\"BASIC_AUTH_USERNAME\")\n",
    "BASIC_AUTH_PASSWORD = os.getenv(\"BASIC_AUTH_PASSWORD\")\n",
    "\n",
    "# Create the client\n",
    "client = EdgeBenchmarkingClient(\n",
    "    protocol=PROTOCOL,\n",
    "    host=HOST,\n",
    "    username=BASIC_AUTH_USERNAME,\n",
    "    password=BASIC_AUTH_PASSWORD,\n",
    ")"
   ]
  },
  {
   "cell_type": "markdown",
   "id": "6efb2e02-c608-4d97-9ac3-28ce02641c41",
   "metadata": {},
   "source": [
    "### 2. Benchmark-Daten finden und einlesen"
   ]
  },
  {
   "cell_type": "code",
   "execution_count": 3,
   "id": "4f27a1d0-2501-481a-a5ea-00e742c56f64",
   "metadata": {},
   "outputs": [
    {
     "name": "stderr",
     "output_type": "stream",
     "text": [
      "2024-07-04 19:30:00.940 INFO client - find_dataset: Found dataset containing 3 samples with type(s) {'.jpeg', '.jpg'} in '/home/jovyan/work/edge-benchmarking-client/examples/densenet_onnx'.\n",
      "2024-07-04 19:30:00.951 INFO client - _find_file: Found file '/home/jovyan/work/edge-benchmarking-client/examples/densenet_onnx/model/densenet_onnx.onnx' with extension {'.onnx', '.pth', '.pt'} in '/home/jovyan/work/edge-benchmarking-client/examples/densenet_onnx'.\n",
      "2024-07-04 19:30:00.956 WARNING client - _find_file: Found multiple (2) files with extension {'.pbtxt'} in '/home/jovyan/work/edge-benchmarking-client/examples/densenet_onnx'. Selecting first match.\n",
      "2024-07-04 19:30:00.959 INFO client - _find_file: Found file '/home/jovyan/work/edge-benchmarking-client/examples/densenet_onnx/model/config.pbtxt' with extension {'.pbtxt'} in '/home/jovyan/work/edge-benchmarking-client/examples/densenet_onnx'.\n",
      "2024-07-04 19:30:00.966 WARNING client - _find_file: Found multiple (2) files with extension {'.txt'} in '/home/jovyan/work/edge-benchmarking-client/examples/densenet_onnx'. Selecting first match.\n",
      "2024-07-04 19:30:00.971 INFO client - _find_file: Found file '/home/jovyan/work/edge-benchmarking-client/examples/densenet_onnx/model/densenet_labels.txt' with extension {'.txt'} in '/home/jovyan/work/edge-benchmarking-client/examples/densenet_onnx'.\n"
     ]
    }
   ],
   "source": [
    "EXAMPLE_ROOT_DIR = \"densenet_onnx\"\n",
    "\n",
    "dataset = client.find_dataset(\n",
    "    root_dir=EXAMPLE_ROOT_DIR, file_extensions={\".jpg\", \".jpeg\"}\n",
    ")\n",
    "model = client.find_model(root_dir=EXAMPLE_ROOT_DIR)\n",
    "model_metadata = client.find_model_metadata(root_dir=EXAMPLE_ROOT_DIR)\n",
    "labels = client.find_labels(root_dir=EXAMPLE_ROOT_DIR)"
   ]
  },
  {
   "cell_type": "markdown",
   "id": "4281abb9-137d-44dc-8fa0-71df30b4f828",
   "metadata": {},
   "source": [
    "### 3. Benchmark-Job starten und auf Ergebnisse warten"
   ]
  },
  {
   "cell_type": "code",
   "execution_count": 4,
   "id": "de2d9abe-806e-4886-af8b-e185548e4035",
   "metadata": {},
   "outputs": [
    {
     "name": "stderr",
     "output_type": "stream",
     "text": [
      "2024-07-04 19:30:09.089 INFO client - upload_benchmark_data: 200 - {'bucket_name': '75edf40c-29ad-49de-9e64-809b9d550b77', 'dataset': ['dataset/vulture.jpeg', 'dataset/mug.jpg', 'dataset/car.jpg'], 'labels': 'models/densenet_onnx/densenet_labels.txt', 'model': 'models/densenet_onnx/1/model.onnx', 'model_metadata': 'models/densenet_onnx/config.pbtxt', 'model_repository': 's3://https://s3.edge-farm.agrifood-tef.edvsz.hs-osnabrueck.de:443/75edf40c-29ad-49de-9e64-809b9d550b77/models'}\n",
      "2024-07-04 19:30:14.282 INFO client - get_benchmark_job_results: Results for benchmark job '75edf40c-29ad-49de-9e64-809b9d550b77' are not yet available.\n",
      "2024-07-04 19:30:15.340 INFO client - get_benchmark_job_results: Results for benchmark job '75edf40c-29ad-49de-9e64-809b9d550b77' are not yet available.\n"
     ]
    }
   ],
   "source": [
    "benchmark_results, inference_results = client.benchmark(\n",
    "    edge_device=\"edge-03\",\n",
    "    dataset=dataset,\n",
    "    model=model,\n",
    "    model_name=EXAMPLE_ROOT_DIR,\n",
    "    model_metadata=model_metadata,\n",
    "    labels=labels,\n",
    "    num_classes=10,\n",
    "    scaling=\"inception\",\n",
    ")"
   ]
  },
  {
   "cell_type": "markdown",
   "id": "35ca6cc3-9970-4354-b2ab-e0f8d275386e",
   "metadata": {},
   "source": [
    "### 4. Ergebnisse abrufen und verarbeiten"
   ]
  },
  {
   "cell_type": "code",
   "execution_count": 5,
   "id": "0d8beabd",
   "metadata": {},
   "outputs": [
    {
     "name": "stderr",
     "output_type": "stream",
     "text": [
      "2024-07-04 19:30:19.741 INFO utils - _init_num_threads: NumExpr defaulting to 4 threads.\n"
     ]
    }
   ],
   "source": [
    "import torch\n",
    "import numpy as np\n",
    "import pandas as pd\n",
    "import torch.nn.functional as F\n",
    "\n",
    "from collections import defaultdict"
   ]
  },
  {
   "cell_type": "code",
   "execution_count": 6,
   "id": "506b3a23-b43a-4ae7-a866-d3cbfcf9032e",
   "metadata": {},
   "outputs": [
    {
     "name": "stdout",
     "output_type": "stream",
     "text": [
      "                         time        uptime  CPU1  CPU2  CPU3  CPU4  CPU5  \\\n",
      "0  2024-07-04T21:30:12.722200  P2DT7H8M7.4S    20    13     3     2     7   \n",
      "1  2024-07-04T21:30:12.722842  P2DT7H8M7.4S    20    13     3     2     7   \n",
      "2  2024-07-04T21:30:13.693856  P2DT7H8M8.4S     6     2     3     4     7   \n",
      "3  2024-07-04T21:30:14.651403  P2DT7H8M9.4S    11     3     4     4     4   \n",
      "\n",
      "   CPU6  CPU7  CPU8  ...  Temp SOC0  Temp SOC1  Temp SOC2  Temp Tboard  \\\n",
      "0     4     5     3  ...     40.593     39.937     39.781         33.0   \n",
      "1     4     5     3  ...     40.593     39.937     39.781         33.0   \n",
      "2     4     3     2  ...     40.531     40.125     39.906         33.0   \n",
      "3     5     7     4  ...     40.437     40.062     40.156         33.0   \n",
      "\n",
      "   Temp Tdiode  Temp tj  Power tj  Power TOT jetson_clocks nvp model  \n",
      "0         34.0   43.437      2904       6992           OFF      MAXN  \n",
      "1         34.0   43.437      2904       6992           OFF      MAXN  \n",
      "2         34.0   43.375      2704       5494           OFF      MAXN  \n",
      "3         34.0   45.500      2804       7687           OFF      MAXN  \n",
      "\n",
      "[4 rows x 48 columns]\n"
     ]
    }
   ],
   "source": [
    "# Benchmark results\n",
    "benchmark_results = pd.DataFrame(benchmark_results)\n",
    "print(benchmark_results)"
   ]
  },
  {
   "cell_type": "code",
   "execution_count": 7,
   "id": "4f68d412-0cb6-43e3-a35a-1c1334e920a2",
   "metadata": {},
   "outputs": [
    {
     "name": "stdout",
     "output_type": "stream",
     "text": [
      "      response id       class  probability\n",
      "0       0_car.jpg  SPORTS CAR    64.724496\n",
      "1       1_mug.jpg  COFFEE MUG    83.965413\n",
      "2  2_vulture.jpeg     VULTURE    99.069402\n"
     ]
    }
   ],
   "source": [
    "# Inference results\n",
    "final_inference_results = defaultdict(list)\n",
    "for inference_respone_id, inference_result in inference_results.items():\n",
    "    predictions = np.stack(inference_result)\n",
    "\n",
    "    logits = predictions[:, 0].astype(float)\n",
    "    probabilities = F.softmax(torch.tensor(logits), dim=0)\n",
    "\n",
    "    predicted_classes = predictions[:, -1]\n",
    "    predicted_class_index = probabilities.argmax()\n",
    "    predicted_probability = probabilities.max()\n",
    "    predicted_class = predicted_classes[predicted_class_index]\n",
    "\n",
    "    final_inference_results[\"response id\"].append(inference_respone_id)\n",
    "    final_inference_results[\"class\"].append(predicted_class)\n",
    "    final_inference_results[\"probability\"].append(\n",
    "        predicted_probability.item() * 100\n",
    "    )\n",
    "\n",
    "    inference_results_df = pd.DataFrame(final_inference_results)\n",
    "print(inference_results_df)"
   ]
  }
 ],
 "metadata": {
  "kernelspec": {
   "display_name": "Python 3 (ipykernel)",
   "language": "python",
   "name": "python3"
  },
  "language_info": {
   "codemirror_mode": {
    "name": "ipython",
    "version": 3
   },
   "file_extension": ".py",
   "mimetype": "text/x-python",
   "name": "python",
   "nbconvert_exporter": "python",
   "pygments_lexer": "ipython3",
   "version": "3.11.3"
  }
 },
 "nbformat": 4,
 "nbformat_minor": 5
}
