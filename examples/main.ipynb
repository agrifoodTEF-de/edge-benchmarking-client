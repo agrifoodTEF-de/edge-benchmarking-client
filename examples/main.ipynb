{
 "cells": [
  {
   "cell_type": "markdown",
   "id": "ad12e16d-d1cb-49d8-85a7-4ae58cff0c2f",
   "metadata": {},
   "source": [
    "### 1. Client herunterladen"
   ]
  },
  {
   "cell_type": "code",
   "execution_count": 2,
   "id": "6d7a47aa-60f8-4d89-b34c-5ff2e10db49a",
   "metadata": {
    "collapsed": true,
    "jupyter": {
     "outputs_hidden": true
    }
   },
   "outputs": [
    {
     "name": "stdout",
     "output_type": "stream",
     "text": [
      "Cloning into 'edge-benchmarking-client'...\n",
      "Username for 'https://gitlab.hs-osnabrueck.de': ^C\n"
     ]
    }
   ],
   "source": [
    "!git clone https://gitlab.hs-osnabrueck.de/agrifood-tef/edge-benchmarking-client.git \\\n",
    "    && cd edge-benchmarking-client"
   ]
  },
  {
   "cell_type": "markdown",
   "id": "a496c9da-5927-48db-a61e-6493fb93d5c9",
   "metadata": {},
   "source": [
    "### 2. Client installieren"
   ]
  },
  {
   "cell_type": "code",
   "execution_count": 1,
   "id": "8bca6142-7e5f-417e-b3b5-83374af5e7f7",
   "metadata": {
    "scrolled": true
   },
   "outputs": [
    {
     "name": "stdout",
     "output_type": "stream",
     "text": [
      "Processing /home/jovyan/work/edge-benchmarking-client\n",
      "  Installing build dependencies ... \u001b[?25ldone\n",
      "\u001b[?25h  Getting requirements to build wheel ... \u001b[?25ldone\n",
      "\u001b[?25h  Preparing metadata (pyproject.toml) ... \u001b[?25ldone\n",
      "\u001b[?25hCollecting matplotlib==3.9.0 (from edge-benchmarking-client==0.1.0)\n",
      "  Downloading matplotlib-3.9.0-cp311-cp311-manylinux_2_17_x86_64.manylinux2014_x86_64.whl (8.3 MB)\n",
      "\u001b[2K     \u001b[90m━━━━━━━━━━━━━━━━━━━━━━━━━━━━━━━━━━━━━━━━\u001b[0m \u001b[32m8.3/8.3 MB\u001b[0m \u001b[31m13.0 MB/s\u001b[0m eta \u001b[36m0:00:00\u001b[0m00:01\u001b[0m00:01\u001b[0m\n",
      "\u001b[?25hCollecting pandas==2.2.2 (from edge-benchmarking-client==0.1.0)\n",
      "  Downloading pandas-2.2.2-cp311-cp311-manylinux_2_17_x86_64.manylinux2014_x86_64.whl (13.0 MB)\n",
      "\u001b[2K     \u001b[90m━━━━━━━━━━━━━━━━━━━━━━━━━━━━━━━━━━━━━━━━\u001b[0m \u001b[32m13.0/13.0 MB\u001b[0m \u001b[31m10.8 MB/s\u001b[0m eta \u001b[36m0:00:00\u001b[0m00:01\u001b[0m00:01\u001b[0m\n",
      "\u001b[?25hCollecting python-dotenv==1.0.1 (from edge-benchmarking-client==0.1.0)\n",
      "  Downloading python_dotenv-1.0.1-py3-none-any.whl (19 kB)\n",
      "Collecting requests==2.32.3 (from edge-benchmarking-client==0.1.0)\n",
      "  Downloading requests-2.32.3-py3-none-any.whl (64 kB)\n",
      "\u001b[2K     \u001b[90m━━━━━━━━━━━━━━━━━━━━━━━━━━━━━━━━━━━━━━━━\u001b[0m \u001b[32m64.9/64.9 kB\u001b[0m \u001b[31m5.1 MB/s\u001b[0m eta \u001b[36m0:00:00\u001b[0m\n",
      "\u001b[?25hCollecting validators==0.28.3 (from edge-benchmarking-client==0.1.0)\n",
      "  Downloading validators-0.28.3-py3-none-any.whl (40 kB)\n",
      "\u001b[2K     \u001b[90m━━━━━━━━━━━━━━━━━━━━━━━━━━━━━━━━━━━━━━━━\u001b[0m \u001b[32m40.0/40.0 kB\u001b[0m \u001b[31m3.1 MB/s\u001b[0m eta \u001b[36m0:00:00\u001b[0m\n",
      "\u001b[?25hRequirement already satisfied: contourpy>=1.0.1 in /opt/conda/lib/python3.11/site-packages (from matplotlib==3.9.0->edge-benchmarking-client==0.1.0) (1.0.7)\n",
      "Requirement already satisfied: cycler>=0.10 in /opt/conda/lib/python3.11/site-packages (from matplotlib==3.9.0->edge-benchmarking-client==0.1.0) (0.11.0)\n",
      "Requirement already satisfied: fonttools>=4.22.0 in /opt/conda/lib/python3.11/site-packages (from matplotlib==3.9.0->edge-benchmarking-client==0.1.0) (4.39.4)\n",
      "Requirement already satisfied: kiwisolver>=1.3.1 in /opt/conda/lib/python3.11/site-packages (from matplotlib==3.9.0->edge-benchmarking-client==0.1.0) (1.4.4)\n",
      "Requirement already satisfied: numpy>=1.23 in /opt/conda/lib/python3.11/site-packages (from matplotlib==3.9.0->edge-benchmarking-client==0.1.0) (1.24.3)\n",
      "Requirement already satisfied: packaging>=20.0 in /opt/conda/lib/python3.11/site-packages (from matplotlib==3.9.0->edge-benchmarking-client==0.1.0) (23.1)\n",
      "Requirement already satisfied: pillow>=8 in /opt/conda/lib/python3.11/site-packages (from matplotlib==3.9.0->edge-benchmarking-client==0.1.0) (9.5.0)\n",
      "Requirement already satisfied: pyparsing>=2.3.1 in /opt/conda/lib/python3.11/site-packages (from matplotlib==3.9.0->edge-benchmarking-client==0.1.0) (3.0.9)\n",
      "Requirement already satisfied: python-dateutil>=2.7 in /opt/conda/lib/python3.11/site-packages (from matplotlib==3.9.0->edge-benchmarking-client==0.1.0) (2.8.2)\n",
      "Requirement already satisfied: pytz>=2020.1 in /opt/conda/lib/python3.11/site-packages (from pandas==2.2.2->edge-benchmarking-client==0.1.0) (2023.3)\n",
      "Requirement already satisfied: tzdata>=2022.7 in /opt/conda/lib/python3.11/site-packages (from pandas==2.2.2->edge-benchmarking-client==0.1.0) (2023.3)\n",
      "Requirement already satisfied: charset-normalizer<4,>=2 in /opt/conda/lib/python3.11/site-packages (from requests==2.32.3->edge-benchmarking-client==0.1.0) (3.1.0)\n",
      "Requirement already satisfied: idna<4,>=2.5 in /opt/conda/lib/python3.11/site-packages (from requests==2.32.3->edge-benchmarking-client==0.1.0) (3.4)\n",
      "Requirement already satisfied: urllib3<3,>=1.21.1 in /opt/conda/lib/python3.11/site-packages (from requests==2.32.3->edge-benchmarking-client==0.1.0) (2.0.2)\n",
      "Requirement already satisfied: certifi>=2017.4.17 in /opt/conda/lib/python3.11/site-packages (from requests==2.32.3->edge-benchmarking-client==0.1.0) (2023.5.7)\n",
      "Requirement already satisfied: six>=1.5 in /opt/conda/lib/python3.11/site-packages (from python-dateutil>=2.7->matplotlib==3.9.0->edge-benchmarking-client==0.1.0) (1.16.0)\n",
      "Building wheels for collected packages: edge-benchmarking-client\n",
      "  Building wheel for edge-benchmarking-client (pyproject.toml) ... \u001b[?25ldone\n",
      "\u001b[?25h  Created wheel for edge-benchmarking-client: filename=edge_benchmarking_client-0.1.0-py3-none-any.whl size=3943 sha256=49f208316db172a7b01dc088d6813552cdba5d3a40bda03f16b93eeff7d31dbd\n",
      "  Stored in directory: /home/jovyan/.cache/pip/wheels/b4/4e/18/ab2135139498b772545d24413e40a1d1c14c7b98f1361db9f9\n",
      "Successfully built edge-benchmarking-client\n",
      "Installing collected packages: validators, requests, python-dotenv, pandas, matplotlib, edge-benchmarking-client\n",
      "  Attempting uninstall: requests\n",
      "    Found existing installation: requests 2.31.0\n",
      "    Uninstalling requests-2.31.0:\n",
      "      Successfully uninstalled requests-2.31.0\n",
      "  Attempting uninstall: pandas\n",
      "    Found existing installation: pandas 2.0.2\n",
      "    Uninstalling pandas-2.0.2:\n",
      "      Successfully uninstalled pandas-2.0.2\n",
      "  Attempting uninstall: matplotlib\n",
      "    Found existing installation: matplotlib 3.7.1\n",
      "    Uninstalling matplotlib-3.7.1:\n",
      "      Successfully uninstalled matplotlib-3.7.1\n",
      "Successfully installed edge-benchmarking-client-0.1.0 matplotlib-3.9.0 pandas-2.2.2 python-dotenv-1.0.1 requests-2.32.3 validators-0.28.3\n"
     ]
    }
   ],
   "source": [
    "!pip install .."
   ]
  },
  {
   "cell_type": "markdown",
   "id": "05215030-41ab-48ae-96b5-ae2fd943c744",
   "metadata": {},
   "source": [
    "### 3. Client erstellen"
   ]
  },
  {
   "cell_type": "code",
   "execution_count": 80,
   "id": "a18aef77-7160-407b-9996-1c9beb0837dd",
   "metadata": {},
   "outputs": [],
   "source": [
    "import os\n",
    "from dotenv import load_dotenv\n",
    "from edge_benchmarking_client.client import EdgeBenchmarkingClient"
   ]
  },
  {
   "cell_type": "code",
   "execution_count": 81,
   "id": "90334682-8a0b-4f06-a874-2d04df4b43fe",
   "metadata": {},
   "outputs": [
    {
     "name": "stderr",
     "output_type": "stream",
     "text": [
      "2024-07-04 14:19:10.538 INFO client - __init__: Created Edge Benchmarking client for user 'admin' and Edge Farm at 'https://api.edge-farm.agrifood-tef.edvsz.hs-osnabrueck.de'.\n",
      "2024-07-04 14:19:10.603 INFO client - _test_connection: Edge Farm API is reachable with status code 200.\n"
     ]
    }
   ],
   "source": [
    "load_dotenv()\n",
    "\n",
    "# Connection information\n",
    "PROTOCOL = \"https\"\n",
    "HOST = \"api.edge-farm.agrifood-tef.edvsz.hs-osnabrueck.de\"\n",
    "\n",
    "# Basic API authentication\n",
    "BASIC_AUTH_USERNAME = os.getenv(\"BASIC_AUTH_USERNAME\")\n",
    "BASIC_AUTH_PASSWORD = os.getenv(\"BASIC_AUTH_PASSWORD\")\n",
    "\n",
    "# Create the client\n",
    "client = EdgeBenchmarkingClient(\n",
    "    protocol=PROTOCOL,\n",
    "    host=HOST,\n",
    "    username=BASIC_AUTH_USERNAME,\n",
    "    password=BASIC_AUTH_PASSWORD,\n",
    ")"
   ]
  },
  {
   "cell_type": "markdown",
   "id": "6efb2e02-c608-4d97-9ac3-28ce02641c41",
   "metadata": {},
   "source": [
    "### 4. Benchmark-Daten finden und einlesen"
   ]
  },
  {
   "cell_type": "code",
   "execution_count": 82,
   "id": "4f27a1d0-2501-481a-a5ea-00e742c56f64",
   "metadata": {},
   "outputs": [
    {
     "name": "stderr",
     "output_type": "stream",
     "text": [
      "2024-07-04 14:19:12.842 INFO client - find_dataset: Found dataset containing 6 samples with type(s) {'.jpg', '.jpeg'} in '/home/jovyan/work/edge-benchmarking-client/examples/densenet_onnx'.\n",
      "2024-07-04 14:19:12.850 INFO client - _find_file: Found file '/home/jovyan/work/edge-benchmarking-client/examples/densenet_onnx/model/densenet_onnx.onnx' with extension {'.pt', '.pth', '.onnx'} in '/home/jovyan/work/edge-benchmarking-client/examples/densenet_onnx'.\n",
      "2024-07-04 14:19:12.855 WARNING client - _find_file: Found multiple (2) files with extension {'.pbtxt'} in '/home/jovyan/work/edge-benchmarking-client/examples/densenet_onnx'. Selecting first match.\n",
      "2024-07-04 14:19:12.856 INFO client - _find_file: Found file '/home/jovyan/work/edge-benchmarking-client/examples/densenet_onnx/model/config.pbtxt' with extension {'.pbtxt'} in '/home/jovyan/work/edge-benchmarking-client/examples/densenet_onnx'.\n",
      "2024-07-04 14:19:12.864 WARNING client - _find_file: Found multiple (2) files with extension {'.txt'} in '/home/jovyan/work/edge-benchmarking-client/examples/densenet_onnx'. Selecting first match.\n",
      "2024-07-04 14:19:12.868 INFO client - _find_file: Found file '/home/jovyan/work/edge-benchmarking-client/examples/densenet_onnx/model/densenet_labels.txt' with extension {'.txt'} in '/home/jovyan/work/edge-benchmarking-client/examples/densenet_onnx'.\n"
     ]
    }
   ],
   "source": [
    "EXAMPLE_ROOT_DIR = \"densenet_onnx\"\n",
    "\n",
    "dataset = client.find_dataset(\n",
    "    root_dir=EXAMPLE_ROOT_DIR, file_extensions={\".jpg\", \".jpeg\"}\n",
    ")\n",
    "model = client.find_model(root_dir=EXAMPLE_ROOT_DIR)\n",
    "model_metadata = client.find_model_metadata(root_dir=EXAMPLE_ROOT_DIR)\n",
    "labels = client.find_labels(root_dir=EXAMPLE_ROOT_DIR)"
   ]
  },
  {
   "cell_type": "markdown",
   "id": "4281abb9-137d-44dc-8fa0-71df30b4f828",
   "metadata": {},
   "source": [
    "### 5. Benchmark-Job starten und auf Ergebnisse warten"
   ]
  },
  {
   "cell_type": "code",
   "execution_count": 83,
   "id": "de2d9abe-806e-4886-af8b-e185548e4035",
   "metadata": {},
   "outputs": [
    {
     "name": "stderr",
     "output_type": "stream",
     "text": [
      "2024-07-04 14:19:23.556 INFO client - upload_benchmark_data: 200 - {'bucket_name': 'a0713a6a-17fd-4de5-8e63-3264e9ea5b16', 'dataset': ['dataset/mug.jpg', 'dataset/car.jpg', 'dataset/car-checkpoint.jpg', 'dataset/mug-checkpoint.jpg', 'dataset/vulture.jpeg', 'dataset/vulture-checkpoint.jpeg'], 'labels': 'models/densenet_onnx/densenet_labels.txt', 'model': 'models/densenet_onnx/1/model.onnx', 'model_metadata': 'models/densenet_onnx/config.pbtxt', 'model_repository': 's3://https://s3.edge-farm.agrifood-tef.edvsz.hs-osnabrueck.de:443/a0713a6a-17fd-4de5-8e63-3264e9ea5b16/models'}\n",
      "2024-07-04 14:19:28.767 INFO client - get_benchmark_job_results: Results for benchmark job 'a0713a6a-17fd-4de5-8e63-3264e9ea5b16' are not yet available.\n",
      "2024-07-04 14:19:29.831 INFO client - get_benchmark_job_results: Results for benchmark job 'a0713a6a-17fd-4de5-8e63-3264e9ea5b16' are not yet available.\n"
     ]
    }
   ],
   "source": [
    "benchmark_results, inference_results = client.benchmark(\n",
    "    edge_device=\"edge-03\",\n",
    "    dataset=dataset,\n",
    "    model=model,\n",
    "    model_name=EXAMPLE_ROOT_DIR,\n",
    "    model_metadata=model_metadata,\n",
    "    labels=labels,\n",
    "    num_classes=1000,\n",
    ")"
   ]
  },
  {
   "cell_type": "markdown",
   "id": "35ca6cc3-9970-4354-b2ab-e0f8d275386e",
   "metadata": {},
   "source": [
    "### 6. Ergebnisse abrufen und verarbeiten"
   ]
  },
  {
   "cell_type": "code",
   "execution_count": null,
   "id": "0d8beabd",
   "metadata": {},
   "outputs": [],
   "source": [
    "import torch\n",
    "import numpy as np\n",
    "import pandas as pd\n",
    "import torch.nn.functional as F\n",
    "\n",
    "from collections import defaultdict"
   ]
  },
  {
   "cell_type": "code",
   "execution_count": null,
   "id": "506b3a23-b43a-4ae7-a866-d3cbfcf9032e",
   "metadata": {},
   "outputs": [
    {
     "name": "stdout",
     "output_type": "stream",
     "text": [
      "['2024-07-04T16:19:27.463079', '2024-07-04T16:19:27.463375', '2024-07-04T16:19:27.660321', '2024-07-04T16:19:28.665821', '2024-07-04T16:19:29.654672'] [0.0, 0.0, 0.0, 0.0, 0.0] [0.026200936653704862, 0.026200936653704862, 0.02916685742779028, 0.02917581490663819, 0.029554330592676564] [44.75, 44.75, 44.312, 44.25, 44.468]\n"
     ]
    }
   ],
   "source": [
    "# Benchmark results\n",
    "benchmark_results = pd.DataFrame(benchmark_results)\n",
    "print(benchmark_results)"
   ]
  },
  {
   "cell_type": "code",
   "execution_count": 86,
   "id": "4f68d412-0cb6-43e3-a35a-1c1334e920a2",
   "metadata": {},
   "outputs": [
    {
     "name": "stdout",
     "output_type": "stream",
     "text": [
      "ANALOG CLOCK\n",
      "ANALOG CLOCK\n",
      "ANALOG CLOCK\n"
     ]
    }
   ],
   "source": [
    "inference_results_table = np.stack(inference_results)\n",
    "\n",
    "final_inference_results = defaultdict(list)\n",
    "for sample_predictions in inference_results_table:\n",
    "    logits = sample_predictions[:, 0].astype(float)\n",
    "    probabilities = F.softmax(torch.tensor(logits), dim=0)\n",
    "\n",
    "    predicted_classes = sample_predictions[:, -1]\n",
    "    predicted_class_index = probabilities.argmax()\n",
    "    predicted_probability = probabilities.max()\n",
    "    predicted_class = predicted_classes[predicted_class_index]\n",
    "\n",
    "    final_inference_results[\"class\"].append(predicted_class)\n",
    "    final_inference_results[\"probability\"].append(\n",
    "        predicted_probability.item() * 100\n",
    "    )\n",
    "\n",
    "inference_results_df = pd.DataFrame(final_inference_results)\n",
    "print(inference_results_df)"
   ]
  }
 ],
 "metadata": {
  "kernelspec": {
   "display_name": "Python 3 (ipykernel)",
   "language": "python",
   "name": "python3"
  },
  "language_info": {
   "codemirror_mode": {
    "name": "ipython",
    "version": 3
   },
   "file_extension": ".py",
   "mimetype": "text/x-python",
   "name": "python",
   "nbconvert_exporter": "python",
   "pygments_lexer": "ipython3",
   "version": "3.11.3"
  }
 },
 "nbformat": 4,
 "nbformat_minor": 5
}
